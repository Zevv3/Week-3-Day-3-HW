{
 "cells": [
  {
   "cell_type": "markdown",
   "metadata": {},
   "source": [
    "# Object Oriented Programming 2 - examples and APIs\n"
   ]
  },
  {
   "cell_type": "markdown",
   "metadata": {},
   "source": [
    "## Tasks Today:\n",
    "\n",
    "   \n",
    "\n",
    "1) <b>Shopping Cart Example</b> <br>\n",
    "2) <b>Requests and the pokemon API </b> <br>\n",
    " "
   ]
  },
  {
   "cell_type": "markdown",
   "metadata": {},
   "source": [
    "# Goal \n",
    "### build a shopping cart program with prices and quantities using objects and a dictionary"
   ]
  },
  {
   "cell_type": "code",
   "execution_count": null,
   "metadata": {},
   "outputs": [],
   "source": [
    "from IPython.display import clear_output as clear\n",
    "# Create a class called cart that retains items and has methods to add, remove, and show\n",
    "class Cart():\n",
    "    def __init__(self):\n",
    "        self.items = {} #{item: quantity}\n",
    "        \n",
    "    #add items to your cart\n",
    "    def add(self):\n",
    "        clear()\n",
    "        new_item = input(\"What do you want to add? \")\n",
    "        quantity = int(input(f\"How many {new_item}(s) do you want to add? (input a number)\" ))\n",
    "        if new_item not in self.item.keys():\n",
    "            self.items[new_item] = quantity\n",
    "        else:\n",
    "            self.items[new_item] += quantity\n",
    "        print(f\"{quantity} {new_item}(s) is/are in the cart\")\n",
    "    \n",
    "    #remove items from your cart\n",
    "    def remove(self):\n",
    "        clear()\n",
    "        discard = input(\"What would you like to discard? \")\n",
    "        quantity = int(input(\"How many would you like to remove? \"))\n",
    "        try:\n",
    "            self.items[discard] -= quantity\n",
    "            if self.items[discard] <= 0:\n",
    "                del self.items[discard]\n",
    "            print(f\"{quantity} {discard}(s) have been removed\")\n",
    "        except:\n",
    "            print(f\"{discard} was not in your cart!\")\n",
    "        self.show()\n",
    "    \n",
    "    #show items in your cart\n",
    "    def show(self):\n",
    "        print(\"Your cart has the following items: \")\n",
    "        for item, quantity in self.items.items():\n",
    "            print(f\"{item} | quantity: {quantity}\")\n",
    "    \n",
    "    #checkout\n",
    "    def checkout(self):\n",
    "        clear()\n",
    "        if not self.items:\n",
    "            print(\"Please buy something before checking out!\")\n",
    "        else:\n",
    "            print(\"Thanks for shopping at Aldi!\")\n",
    "            self.show()\n",
    "\n",
    "#control flow - run the overall program\n",
    "class Main:\n",
    "    def showInstructions():\n",
    "        print(\"\"\"\n",
    "        Welcome to Aldi, we're the best and have great peanut butter cups! Try our Strawberry La Vie!\n",
    "        Options:\n",
    "        [1] Show Current Cart\n",
    "        [2] Add Item\n",
    "        [3] Remove Item\n",
    "        [4] Quit\n",
    "        \"\"\")\n",
    "\n",
    "    # driver code - responsible for actually calling all of my functions\n",
    "    def run():\n",
    "        Main.showInstructions()\n",
    "        my_cart = Cart()\n",
    "        \n",
    "        while True:\n",
    "            choice = input(\"What would you like to do? \")\n",
    "            if choice == '1':\n",
    "                if my_cart.items == {}:\n",
    "                    print('Your cart is empty... start shopping')\n",
    "                else:\n",
    "                    my_cart.show()\n",
    "            elif choice == '2':\n",
    "                my_cart.add()\n",
    "            elif choice == '3':\n",
    "                if my_cart.items == {}:\n",
    "                    print('your cart is empty... add something before you remove it')\n",
    "                else:\n",
    "                    my_cart.remove()\n",
    "            elif choice == '4':\n",
    "                my_cart.checkout()\n",
    "                break\n",
    "            else:\n",
    "                print(\"invalid input... please try again.\")\n",
    "                \n",
    "Main.run()"
   ]
  },
  {
   "cell_type": "markdown",
   "metadata": {},
   "source": [
    "# working with APis"
   ]
  },
  {
   "cell_type": "markdown",
   "metadata": {},
   "source": [
    "<p> What exactly is an API? <br> <br>\n",
    "API is the acronym for Application Programming Interface, which is a software intermediary that allows two applications to talk to each other. Each time you use an app like Facebook, send an instant message, or check the weather on your phone, you're using an API. </p>"
   ]
  },
  {
   "cell_type": "markdown",
   "metadata": {},
   "source": [
    "### The Poke API  allows you to retreive a pokemon's information from PokeAPI https://pokeapi.co/\n",
    "\n"
   ]
  },
  {
   "cell_type": "code",
   "execution_count": null,
   "metadata": {},
   "outputs": [],
   "source": [
    "#when doing this in vsCode you have to do \n",
    "#pip install requests\n",
    "#in the terminal"
   ]
  },
  {
   "cell_type": "code",
   "execution_count": null,
   "metadata": {},
   "outputs": [],
   "source": [
    "# making an API call\n",
    "import requests\n",
    "\n",
    "r = requests.get(\"https://pokeapi.co/api/v2/pokemon/charmander\")\n",
    "if r.status_code == 200:\n",
    "    data = r.json()\n",
    "print(data.keys())"
   ]
  },
  {
   "cell_type": "markdown",
   "metadata": {},
   "source": [
    "### Display a Pokemon's name, weight, abilities, and types"
   ]
  },
  {
   "cell_type": "code",
   "execution_count": null,
   "metadata": {},
   "outputs": [],
   "source": [
    "# get the name\n",
    "name = data['name']\n",
    "print(name)"
   ]
  },
  {
   "cell_type": "code",
   "execution_count": null,
   "metadata": {},
   "outputs": [],
   "source": [
    "# get types\n",
    "types = [type_['type']['name'] for type_ in data['types']]\n",
    "\n",
    "#here is another way to do it\n",
    "# my_types = []\n",
    "# for type_ in data['types']:\n",
    "#     my_types.append(type_['type']['name'])\n",
    "\n",
    "# print(my_types)\n",
    "\n",
    "print(types)"
   ]
  },
  {
   "cell_type": "code",
   "execution_count": null,
   "metadata": {
    "scrolled": true
   },
   "outputs": [],
   "source": [
    "# get weight\n",
    "weight = data['weight']\n",
    "print(weight)"
   ]
  },
  {
   "cell_type": "code",
   "execution_count": null,
   "metadata": {},
   "outputs": [],
   "source": [
    "# get abilities\n",
    "abilities = [ability['ability']['name'] for ability in data['abilities']]\n",
    "print(abilities)"
   ]
  },
  {
   "cell_type": "code",
   "execution_count": null,
   "metadata": {},
   "outputs": [],
   "source": [
    "# Create a structure for a single pokemon\n",
    "my_pokemon = {\n",
    "    'name': '',\n",
    "    'abilities': [],\n",
    "    'weight': '',\n",
    "    'types': []\n",
    "}"
   ]
  },
  {
   "cell_type": "code",
   "execution_count": null,
   "metadata": {},
   "outputs": [],
   "source": [
    "charmander = {\n",
    "    'name': name,\n",
    "    'abilities': abilities,\n",
    "    'weight': weight,\n",
    "    'types': types\n",
    "}\n",
    "\n",
    "charmander"
   ]
  },
  {
   "cell_type": "markdown",
   "metadata": {},
   "source": [
    "#### Create a function to Pull in your own Pokemon's data "
   ]
  },
  {
   "cell_type": "code",
   "execution_count": null,
   "metadata": {},
   "outputs": [],
   "source": [
    "import requests\n",
    "\n",
    "party = ['heracross', 'vaporeon','flygon','charizard','pidgeot','crobat']\n",
    "\n",
    "def poke_api_call(pokemon):\n",
    "    req = requests.get(f\"https://pokeapi.co/api/v2/pokemon/{pokemon}\")\n",
    "    if req.status_code == 200:\n",
    "        data = req.json()\n",
    "        \n",
    "        name = data['name']\n",
    "        types = [pokemon['type']['name'] for pokemon in data['types']]\n",
    "        abilities = [pokemon['ability']['name'] for pokemon in data['abilities']]\n",
    "        weight = data['weight']\n",
    "        \n",
    "        poke = {\n",
    "            \"name\": name,\n",
    "            \"abilities\": abilities,\n",
    "            \"weight\": weight,\n",
    "            \"types\": types\n",
    "        }\n",
    "        \n",
    "        return poke\n",
    "    \n",
    "# Place all 6 of your pokemon on the object below, each pokemon should have at least as much info as Pikachu did.\n",
    "my_six_pokemon = {}\n",
    "\n",
    "for pokemon in party:\n",
    "    poke_stats = poke_api_call(pokemon)\n",
    "    my_six_pokemon[poke_stats['name'].title()] = poke_stats\n",
    "    \n",
    "my_six_pokemon\n",
    "\n"
   ]
  },
  {
   "cell_type": "markdown",
   "metadata": {},
   "source": [
    "Choose your pokemon"
   ]
  },
  {
   "cell_type": "code",
   "execution_count": null,
   "metadata": {},
   "outputs": [],
   "source": [
    "from random import randint\n",
    "# Random number generated for each pokemon id\n",
    "random_team = [randint(1,898) for i in range(6)]\n",
    "\n",
    "your_team = ['electabuzz', 'haunter','tyranitar','blaziken','marowak','dragonair']\n"
   ]
  },
  {
   "cell_type": "markdown",
   "metadata": {},
   "source": [
    "#### Use your function to create a dictionary of your favorite 6 pokemon"
   ]
  },
  {
   "cell_type": "code",
   "execution_count": null,
   "metadata": {},
   "outputs": [],
   "source": [
    "# Place all 6 of your pokemon on the object below, each pokemon should have at least as much info as Pikachu did.\n",
    "my_six_pokemon = {}\n",
    "#see above"
   ]
  },
  {
   "cell_type": "markdown",
   "metadata": {},
   "source": [
    "## Lets create a class called 'Pokemon' and create our pokemon as instances"
   ]
  },
  {
   "cell_type": "code",
   "execution_count": null,
   "metadata": {},
   "outputs": [],
   "source": [
    "import requests\n",
    "class Pokemon():\n",
    "    def __init__(self, name):\n",
    "        self.name = name\n",
    "        self.types = []\n",
    "        self.abilities = []\n",
    "        self.weight = None\n",
    "        self.poke_api_call()\n",
    "        \n",
    "    def poke_api_call(self):\n",
    "        r = requests.get(f\"https://pokeapi.co/api/v2/pokemon/{self.name}\")\n",
    "        if r.status_code == 200:\n",
    "            pokemon = r.json()\n",
    "        else:\n",
    "            print(f\"Please check pokemon name spelling and try again: {r.status_code}\")\n",
    "            return\n",
    "        \n",
    "        self.name = pokemon[\"name\"]\n",
    "        self.types = [pokemon['type']['name'] for pokemon in pokemon['types']]\n",
    "        self.abilities = [pokemon['ability']['name'] for pokemon in pokemon['abilities']]\n",
    "        self.weight = pokemon['weight']\n",
    "        print(f\"{self.name}'s data has been updated!\")\n",
    "    \n",
    "    def __repr__(self):\n",
    "        return f\"You caught a {self.name}!!\"\n",
    "\n",
    "    \n",
    "    "
   ]
  },
  {
   "cell_type": "markdown",
   "metadata": {},
   "source": [
    "### Let's Catch some Pokemon"
   ]
  },
  {
   "cell_type": "code",
   "execution_count": null,
   "metadata": {},
   "outputs": [],
   "source": [
    "charmander = Pokemon(\"charmander\")\n",
    "\n",
    "charmander.__dict__\n",
    "print(charmander)"
   ]
  },
  {
   "cell_type": "code",
   "execution_count": null,
   "metadata": {},
   "outputs": [],
   "source": [
    "party = ['heracross', 'vaporeon','flygon','charizard','pidgeot','crobat']\n",
    "pokedex = {}\n",
    "for pokemon in party:\n",
    "    new = Pokemon(pokemon)\n",
    "    pokedex[new.name] = new.__dict__\n",
    "    \n",
    "pokedex\n"
   ]
  },
  {
   "cell_type": "markdown",
   "metadata": {},
   "source": [
    "## Exercise 1:"
   ]
  },
  {
   "cell_type": "markdown",
   "metadata": {},
   "source": [
    "### Create a Method prints an image of your pokemon\n",
    "\n",
    "<p>HINT: You may need another attribute as well to store your image url within. </p>"
   ]
  },
  {
   "cell_type": "code",
   "execution_count": null,
   "metadata": {},
   "outputs": [],
   "source": [
    "# Display an image in Jupyter notebook\n",
    "from IPython.display import Image\n",
    "\n",
    "display(Image( 'https://i.redd.it/45n4mhusa8l41.jpg', width = 300))\n"
   ]
  },
  {
   "cell_type": "code",
   "execution_count": null,
   "metadata": {},
   "outputs": [],
   "source": [
    "# recreate your pokemon class here\n",
    "import requests\n",
    "from IPython.display import Image\n",
    "class Pokemon(Evolver):\n",
    "    def __init__(self, name):\n",
    "        self.name = name\n",
    "        self.types = []\n",
    "        self.abilities = []\n",
    "        self.weight = None\n",
    "        #new image attribute\n",
    "        self.image = None\n",
    "        self.poke_api_call()\n",
    "        \n",
    "    def poke_api_call(self):\n",
    "        r = requests.get(f\"https://pokeapi.co/api/v2/pokemon/{self.name}\")\n",
    "        if r.status_code == 200:\n",
    "            pokemon = r.json()\n",
    "        else:\n",
    "            print(f\"Please check pokemon name spelling and try again: {r.status_code}\")\n",
    "            return\n",
    "        \n",
    "        self.name = pokemon[\"name\"]\n",
    "        self.types = [pokemon['type']['name'] for pokemon in pokemon['types']]\n",
    "        self.abilities = [pokemon['ability']['name'] for pokemon in pokemon['abilities']]\n",
    "        self.weight = pokemon['weight']\n",
    "        # new image details\n",
    "        self.image = pokemon['sprites']['front_shiny']\n",
    "        print(f\"{self.name}'s data has been updated!\")\n",
    "        \n",
    "    #display our image with a method\n",
    "    def display(self):\n",
    "        display(Image(url = self.image))\n",
    "    \n",
    "    def __repr__(self):\n",
    "        return f\"You caught a {self.name}!!\"\n",
    "    \n"
   ]
  },
  {
   "cell_type": "code",
   "execution_count": null,
   "metadata": {},
   "outputs": [],
   "source": [
    "heracross = Pokemon(\"heracross\")\n",
    "charmander = Pokemon(\"charmander\")\n",
    "pikachu = Pokemon(\"pikachu\")\n",
    "heracross.display()\n",
    "jigglypuff = Pokemon(\"jigglypuff\")"
   ]
  },
  {
   "cell_type": "code",
   "execution_count": null,
   "metadata": {},
   "outputs": [],
   "source": [
    "# Calling our new method\n",
    "charmander.display()\n",
    "pikachu.display()\n",
    "jigglypuff.display()"
   ]
  },
  {
   "cell_type": "markdown",
   "metadata": {},
   "source": [
    "## Exercise 2:"
   ]
  },
  {
   "cell_type": "markdown",
   "metadata": {},
   "source": [
    "### Create a Method that evolves your Pokemon\n",
    "If your pokemon can't evolve any further print a message that says \"\\<name of pokemon> can't evolve.\""
   ]
  },
  {
   "cell_type": "code",
   "execution_count": null,
   "metadata": {},
   "outputs": [],
   "source": []
  },
  {
   "cell_type": "code",
   "execution_count": null,
   "metadata": {},
   "outputs": [],
   "source": [
    "from time import sleep\n",
    "class Evolver:\n",
    "    def evolve(self): \n",
    "        #API call for the pokemon species\n",
    "        r = requests.get(f\"https://pokeapi.co/api/v2/pokemon-species/{self.name}\")\n",
    "        if r.status_code == 200:\n",
    "            pokemon_species = r.json()\n",
    "        else:\n",
    "            print(f\"Ran into an issue, please check your spelling {r.status_code}\")\n",
    "            return\n",
    "        r = requests.get(pokemon_species['evolution_chain']['url'])\n",
    "        if r.status_code == 200:\n",
    "            ev_chain = r.json()\n",
    "            ev_chain = ev_chain['chain']\n",
    "        else:\n",
    "            print(f\"Ran into an issue, please check your spelling {r.status_code}\")\n",
    "            return\n",
    "        \n",
    "        base_name = ev_chain['species']['name']\n",
    "        evolution = ev_chain['evolves_to'][0]\n",
    "        evolution_name = evolution['species']['name']\n",
    "        \n",
    "        #Evolution 1\n",
    "        if base_name == self.name:\n",
    "            pass\n",
    "        #Evolution 2\n",
    "        elif evolution_name == self.name:\n",
    "            evolution_name = evolution['evolves_to'][0]['species']['name']\n",
    "        \n",
    "        #Evolution 3\n",
    "        else:\n",
    "            print(f\"You cannot evolve your {self.name} anymore...\")\n",
    "            return\n",
    "        print('........')\n",
    "        sleep(1)\n",
    "        print(f\"Your {self.name} is evolving!?!?!\")\n",
    "        self.display()\n",
    "        print('............')\n",
    "        sleep(1)\n",
    "        self.name = evolution_name\n",
    "        self.poke_api_call()\n",
    "        self.display()"
   ]
  },
  {
   "cell_type": "code",
   "execution_count": null,
   "metadata": {},
   "outputs": [],
   "source": [
    "import requests\n",
    "from IPython.display import Image\n",
    "class Pokemon(Evolver):\n",
    "    def __init__(self, name):\n",
    "        self.name = name\n",
    "        self.types = []\n",
    "        self.abilities = []\n",
    "        self.weight = None\n",
    "        #new image attribute\n",
    "        self.image = None\n",
    "        self.poke_api_call()\n",
    "        \n",
    "    def poke_api_call(self):\n",
    "        r = requests.get(f\"https://pokeapi.co/api/v2/pokemon/{self.name}\")\n",
    "        if r.status_code == 200:\n",
    "            pokemon = r.json()\n",
    "        else:\n",
    "            print(f\"Please check pokemon name spelling and try again: {r.status_code}\")\n",
    "            return\n",
    "        \n",
    "        self.name = pokemon[\"name\"]\n",
    "        self.types = [pokemon['type']['name'] for pokemon in pokemon['types']]\n",
    "        self.abilities = [pokemon['ability']['name'] for pokemon in pokemon['abilities']]\n",
    "        self.weight = pokemon['weight']\n",
    "        # new image details\n",
    "        self.image = pokemon['sprites']['front_shiny']\n",
    "        print(f\"{self.name}'s data has been updated!\")\n",
    "        \n",
    "    #display our image with a method\n",
    "    def display(self):\n",
    "        display(Image(url = self.image))\n",
    "    \n",
    "    def __repr__(self):\n",
    "        return f\"You caught a {self.name}!!\""
   ]
  },
  {
   "cell_type": "code",
   "execution_count": null,
   "metadata": {},
   "outputs": [],
   "source": []
  },
  {
   "cell_type": "markdown",
   "metadata": {},
   "source": [
    "Now let's evolve a few"
   ]
  },
  {
   "cell_type": "code",
   "execution_count": null,
   "metadata": {
    "scrolled": false
   },
   "outputs": [],
   "source": [
    "charmander = Pokemon(\"charmander\")\n",
    "charmeleon = Pokemon(\"charmeleon\")\n",
    "jigglypuff = Pokemon(\"jigglypuff\")\n",
    "wigglytuff = Pokemon('wigglytuff')\n",
    "print(charmander.types)\n",
    "print(jigglypuff.types)"
   ]
  },
  {
   "cell_type": "code",
   "execution_count": null,
   "metadata": {},
   "outputs": [],
   "source": [
    "charmander.evolve()\n",
    "charmeleon.evolve()"
   ]
  },
  {
   "cell_type": "code",
   "execution_count": null,
   "metadata": {
    "scrolled": true
   },
   "outputs": [],
   "source": [
    "jigglypuff.evolve()"
   ]
  },
  {
   "cell_type": "code",
   "execution_count": null,
   "metadata": {},
   "outputs": [],
   "source": [
    "wigglytuff.evolve()"
   ]
  },
  {
   "cell_type": "markdown",
   "metadata": {},
   "source": [
    "#  Final Exercise: <br> <br>Create a Move_Tutor Class that will allow the Pokemon Class to inherit a move list.\n",
    "<br>\n",
    "<p>for an added bonus you can make sure that if a pokemon has 4 moves the user can choose one of them to replace with a new move. </p>"
   ]
  },
  {
   "cell_type": "code",
   "execution_count": 23,
   "metadata": {},
   "outputs": [],
   "source": [
    "import requests\n",
    "class Move_Tutor:\n",
    "    def __init__(self):\n",
    "        \n",
    "        self.move_options = []\n",
    "    def teach_move(self):\n",
    "        r = requests.get(f\"https://pokeapi.co/api/v2/pokemon/{self.name}\")\n",
    "        if r.status_code == 200:\n",
    "            pokemon = r.json()\n",
    "        else:\n",
    "            print(f\"Ran into an issue, please check your spelling {r.status_code}\")\n",
    "            return\n",
    "        self.move_options = [pokemon['move']['name'] for pokemon in pokemon['moves']]\n",
    "        \n",
    "        while True:        \n",
    "            if len(self.move_list) >= 4:\n",
    "                print(self.move_list)\n",
    "                ask = input(f\"{self.name} already knows 4 moves! Choose a move to un-learn, or enter 'quit' or 'cancel' to cancel. \")         \n",
    "                if ask.lower().strip() in self.move_list:\n",
    "                    self.move_list.remove(ask.lower().strip())\n",
    "\n",
    "                elif ask.lower().strip() in ('quit', 'cancel'):\n",
    "                    return\n",
    "\n",
    "            else:\n",
    "                choice = input(f\"What move would you like to teach your {self.name}? \")\n",
    "                if choice in self.move_options:\n",
    "                    if choice in self.move_list:\n",
    "                        print(f\"Your {self.name} already knows {choice}!\")\n",
    "                        ask = input(\"Would you like to learn a different move? (yes/no) \")\n",
    "                        if ask.lower().strip() in ('yes','y'):\n",
    "                            print('\\n')\n",
    "                        elif ask.lower().strip() in ('no', 'n'):\n",
    "                            return\n",
    "                    elif choice not in self.move_list:\n",
    "                        print(f\"Your {self.name} has learned {choice}!\")\n",
    "                        self.move_list.append(choice)\n",
    "                        choice = ''\n",
    "                        return\n",
    "                    else:\n",
    "                        print(\"There was an error. Please enter a valid response.\")\n",
    "                else:\n",
    "                    print(f\"Sorry, your {self.name} cannot learn {choice}.\")\n",
    "                    ask = input(\"Would you like to learn a different move? (yes/no) \")\n",
    "                    if ask.lower().strip() in ('yes','y'):\n",
    "                        print('\\n')\n",
    "                    elif ask.lower().strip() in ('no', 'n'):\n",
    "\n",
    "                        break\n",
    "\n",
    "    def show_moves(self):\n",
    "        print(self.move_list)"
   ]
  },
  {
   "cell_type": "code",
   "execution_count": 24,
   "metadata": {},
   "outputs": [],
   "source": [
    "import requests\n",
    "from IPython.display import Image\n",
    "class Pokemon(Move_Tutor):\n",
    "    def __init__(self, name):\n",
    "        self.name = name\n",
    "        self.types = []\n",
    "        self.abilities = []\n",
    "        self.weight = None\n",
    "        #new image attribute\n",
    "        self.image = None\n",
    "        self.poke_api_call()\n",
    "        self.move_list = []\n",
    "        \n",
    "    def poke_api_call(self):\n",
    "        r = requests.get(f\"https://pokeapi.co/api/v2/pokemon/{self.name}\")\n",
    "        if r.status_code == 200:\n",
    "            pokemon = r.json()\n",
    "        else:\n",
    "            print(f\"Please check pokemon name spelling and try again: {r.status_code}\")\n",
    "            return\n",
    "        \n",
    "        self.name = pokemon[\"name\"]\n",
    "        self.types = [pokemon['type']['name'] for pokemon in pokemon['types']]\n",
    "        self.abilities = [pokemon['ability']['name'] for pokemon in pokemon['abilities']]\n",
    "        self.weight = pokemon['weight']\n",
    "        # new image details\n",
    "        self.image = pokemon['sprites']['front_shiny']\n",
    "        print(f\"{self.name}'s data has been updated!\")\n",
    "        \n",
    "    #display our image with a method\n",
    "    def display(self):\n",
    "        display(Image(url = self.image))\n",
    "    \n",
    "    def __repr__(self):\n",
    "        return f\"You caught a {self.name}!!\""
   ]
  },
  {
   "cell_type": "code",
   "execution_count": 25,
   "metadata": {
    "scrolled": true
   },
   "outputs": [
    {
     "name": "stdout",
     "output_type": "stream",
     "text": [
      "jigglypuff's data has been updated!\n",
      "What move would you like to teach your jigglypuff? pound\n",
      "Your jigglypuff has learned pound!\n"
     ]
    }
   ],
   "source": [
    "jigglypuff = Pokemon(\"jigglypuff\")\n",
    "jigglypuff.teach_move()\n",
    "\n"
   ]
  },
  {
   "cell_type": "code",
   "execution_count": 26,
   "metadata": {},
   "outputs": [
    {
     "name": "stdout",
     "output_type": "stream",
     "text": [
      "['pound']\n"
     ]
    }
   ],
   "source": [
    "jigglypuff.show_moves()"
   ]
  },
  {
   "cell_type": "code",
   "execution_count": 27,
   "metadata": {
    "scrolled": true
   },
   "outputs": [
    {
     "name": "stdout",
     "output_type": "stream",
     "text": [
      "What move would you like to teach your jigglypuff? headbutt\n",
      "Your jigglypuff has learned headbutt!\n",
      "What move would you like to teach your jigglypuff? ice-punch\n",
      "Your jigglypuff has learned ice-punch!\n",
      "What move would you like to teach your jigglypuff? mega-punch\n",
      "Your jigglypuff has learned mega-punch!\n",
      "['pound', 'headbutt', 'ice-punch', 'mega-punch']\n",
      "jigglypuff already knows 4 moves! Choose a move to un-learn, or enter 'quit' or 'cancel' to cancel. pound\n",
      "What move would you like to teach your jigglypuff? mega-punch\n",
      "Your jigglypuff already knows mega-punch!\n",
      "Would you like to learn a different move? (yes/no) yes\n",
      "\n",
      "\n",
      "What move would you like to teach your jigglypuff? fire-punch\n",
      "Your jigglypuff has learned fire-punch!\n",
      "['headbutt', 'ice-punch', 'mega-punch', 'fire-punch']\n",
      "jigglypuff already knows 4 moves! Choose a move to un-learn, or enter 'quit' or 'cancel' to cancel. headbutt\n",
      "What move would you like to teach your jigglypuff? thunder-punch\n",
      "Your jigglypuff has learned thunder-punch!\n"
     ]
    }
   ],
   "source": [
    "jigglypuff.teach_move()\n",
    "jigglypuff.teach_move()\n",
    "jigglypuff.teach_move()\n",
    "jigglypuff.teach_move()\n",
    "jigglypuff.teach_move()\n",
    "\n"
   ]
  },
  {
   "cell_type": "code",
   "execution_count": 28,
   "metadata": {},
   "outputs": [
    {
     "name": "stdout",
     "output_type": "stream",
     "text": [
      "['ice-punch', 'mega-punch', 'fire-punch', 'thunder-punch']\n"
     ]
    }
   ],
   "source": [
    "jigglypuff.show_moves()"
   ]
  },
  {
   "cell_type": "code",
   "execution_count": null,
   "metadata": {},
   "outputs": [],
   "source": [
    "#Couldn't figure out how to get this to work\n",
    "import requests\n",
    "class Move_Tutor:\n",
    "    def __init__(self):\n",
    "        \n",
    "        self.move_options = []\n",
    "    def teach_move(self):\n",
    "        r = requests.get(f\"https://pokeapi.co/api/v2/pokemon/{self.name}\")\n",
    "        if r.status_code == 200:\n",
    "            pokemon = r.json()\n",
    "        else:\n",
    "            print(f\"Ran into an issue, please check your spelling {r.status_code}\")\n",
    "            return\n",
    "        self.move_options = [pokemon['move']['name'] for pokemon in pokemon['moves']]\n",
    "        \n",
    "        checking = True\n",
    "        while checking == True:          \n",
    "            if len(self.move_list) >= 4:\n",
    "                ask = input(f\"{self.name} already knows 4 moves! Would you like to un-learn a move? (yes/no) \")\n",
    "                if ask.lower().strip() in ('yes','y'):\n",
    "                    print(self.move_list)\n",
    "                    ask = input(\"Please choose a move to un-learn: \")\n",
    "                    for move in self.move_list:\n",
    "                        if move == ask.lower().strip():\n",
    "                            self.move_list.remove(move)\n",
    "                            checking = False\n",
    "                            choosing = True\n",
    "                elif ask.lower().strip() in ('no', 'n'):\n",
    "                    return\n",
    "                else:\n",
    "                    print(\"There was an error. Please enter a valid response.\")\n",
    "            else:\n",
    "                checking = False\n",
    "                choosing = True\n",
    "                pass\n",
    "                    \n",
    "                \n",
    "        choosing = True\n",
    "        while choosing == True:\n",
    "            choice = input(f\"What move would you like to teach your {self.name}? \")\n",
    "\n",
    "            if choice in self.move_options:\n",
    "                if choice in self.move_list:\n",
    "                    print(f\"Your {self.name} already knows {choice}!\")\n",
    "                    ask = input(\"Would you like to learn a different move? (yes/no) \")\n",
    "                    if ask.lower().strip() in ('yes','y'):\n",
    "                        print('\\n')\n",
    "                    elif ask.lower().strip() in ('no', 'n'):\n",
    "                        choosing = False\n",
    "                        break\n",
    "                elif choice not in self.move_list:\n",
    "                    print(f\"Your {self.name} has learned {choice}!\")\n",
    "                    self.move_list.append(choice)\n",
    "                    choice = ''\n",
    "                else:\n",
    "                    print(\"There was an error. Please enter a valid response.\")\n",
    "            else:\n",
    "                print(f\"Sorry, your {self.name} cannot learn {choice}.\")\n",
    "                ask = input(\"Would you like to learn a different move? (yes/no) \")\n",
    "                if ask.lower().strip() in ('yes','y'):\n",
    "                    print('\\n')\n",
    "                elif ask.lower().strip() in ('no', 'n'):\n",
    "                    choosing = False\n",
    "                    break\n",
    "        \n",
    "    def show_moves(self):\n",
    "        print(self.move_list)\n",
    "\n",
    "\n",
    "import requests\n",
    "from IPython.display import Image\n",
    "class Pokemon(Move_Tutor):\n",
    "    def __init__(self, name):\n",
    "        self.name = name\n",
    "        self.types = []\n",
    "        self.abilities = []\n",
    "        self.weight = None\n",
    "        #new image attribute\n",
    "        self.image = None\n",
    "        self.poke_api_call()\n",
    "        self.move_list = []\n",
    "        \n",
    "    def poke_api_call(self):\n",
    "        r = requests.get(f\"https://pokeapi.co/api/v2/pokemon/{self.name}\")\n",
    "        if r.status_code == 200:\n",
    "            pokemon = r.json()\n",
    "        else:\n",
    "            print(f\"Please check pokemon name spelling and try again: {r.status_code}\")\n",
    "            return\n",
    "        \n",
    "        self.name = pokemon[\"name\"]\n",
    "        self.types = [pokemon['type']['name'] for pokemon in pokemon['types']]\n",
    "        self.abilities = [pokemon['ability']['name'] for pokemon in pokemon['abilities']]\n",
    "        self.weight = pokemon['weight']\n",
    "        # new image details\n",
    "        self.image = pokemon['sprites']['front_shiny']\n",
    "        print(f\"{self.name}'s data has been updated!\")\n",
    "        \n",
    "    #display our image with a method\n",
    "    def display(self):\n",
    "        display(Image(url = self.image))\n",
    "    \n",
    "    def __repr__(self):\n",
    "        return f\"You caught a {self.name}!!\"\n",
    "\n",
    "\n"
   ]
  }
 ],
 "metadata": {
  "kernelspec": {
   "display_name": "Python 3 (ipykernel)",
   "language": "python",
   "name": "python3"
  },
  "language_info": {
   "codemirror_mode": {
    "name": "ipython",
    "version": 3
   },
   "file_extension": ".py",
   "mimetype": "text/x-python",
   "name": "python",
   "nbconvert_exporter": "python",
   "pygments_lexer": "ipython3",
   "version": "3.9.12"
  }
 },
 "nbformat": 4,
 "nbformat_minor": 4
}
